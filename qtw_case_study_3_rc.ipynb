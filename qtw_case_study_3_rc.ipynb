{
 "cells": [
  {
   "cell_type": "markdown",
   "metadata": {},
   "source": [
    "### Modeling with NB vs KNN vs PCA+GNB vs PCA+KNN\n",
    "- Features used:\n",
    "    - Content Type (One hot encoded)\n",
    "    - Subject line (Expanded to TFIDF)\n",
    "    - Is the Email a reply\n",
    "    - Is the Email a forward\n",
    "    - Number of actual data lines\n"
   ]
  },
  {
   "cell_type": "code",
   "execution_count": 49,
   "metadata": {},
   "outputs": [
    {
     "name": "stdout",
     "output_type": "stream",
     "text": [
      "Requirement already satisfied: pandas in /usr/local/lib/python3.7/site-packages (from -r requirements.txt (line 1)) (1.2.0)\n",
      "Requirement already satisfied: numpy in /usr/local/lib/python3.7/site-packages (from -r requirements.txt (line 2)) (1.19.4)\n",
      "Requirement already satisfied: seaborn in /usr/local/lib/python3.7/site-packages (from -r requirements.txt (line 3)) (0.11.1)\n",
      "Requirement already satisfied: matplotlib in /usr/local/lib/python3.7/site-packages (from -r requirements.txt (line 4)) (3.3.3)\n",
      "Requirement already satisfied: plotly in /usr/local/lib/python3.7/site-packages (from -r requirements.txt (line 5)) (4.14.3)\n",
      "Requirement already satisfied: sklearn in /usr/local/lib/python3.7/site-packages (from -r requirements.txt (line 6)) (0.0)\n",
      "Requirement already satisfied: nltk in /usr/local/lib/python3.7/site-packages (from -r requirements.txt (line 7)) (3.6.2)\n",
      "Requirement already satisfied: spacy in /usr/local/lib/python3.7/site-packages (from -r requirements.txt (line 8)) (3.2.1)\n",
      "Requirement already satisfied: python-dateutil>=2.7.3 in /usr/local/lib/python3.7/site-packages (from pandas->-r requirements.txt (line 1)) (2.8.1)\n",
      "Requirement already satisfied: pytz>=2017.3 in /usr/local/lib/python3.7/site-packages (from pandas->-r requirements.txt (line 1)) (2020.5)\n",
      "Requirement already satisfied: scipy>=1.0 in /usr/local/lib/python3.7/site-packages (from seaborn->-r requirements.txt (line 3)) (1.5.4)\n",
      "Requirement already satisfied: kiwisolver>=1.0.1 in /usr/local/lib/python3.7/site-packages (from matplotlib->-r requirements.txt (line 4)) (1.3.1)\n",
      "Requirement already satisfied: pyparsing!=2.0.4,!=2.1.2,!=2.1.6,>=2.0.3 in /usr/local/lib/python3.7/site-packages (from matplotlib->-r requirements.txt (line 4)) (2.4.7)\n",
      "Requirement already satisfied: pillow>=6.2.0 in /usr/local/lib/python3.7/site-packages (from matplotlib->-r requirements.txt (line 4)) (8.1.0)\n",
      "Requirement already satisfied: cycler>=0.10 in /usr/local/lib/python3.7/site-packages (from matplotlib->-r requirements.txt (line 4)) (0.10.0)\n",
      "Requirement already satisfied: six in /usr/local/lib/python3.7/site-packages (from plotly->-r requirements.txt (line 5)) (1.15.0)\n",
      "Requirement already satisfied: retrying>=1.3.3 in /usr/local/lib/python3.7/site-packages (from plotly->-r requirements.txt (line 5)) (1.3.3)\n",
      "Requirement already satisfied: scikit-learn in /usr/local/lib/python3.7/site-packages (from sklearn->-r requirements.txt (line 6)) (0.23.2)\n",
      "Requirement already satisfied: tqdm in /usr/local/lib/python3.7/site-packages (from nltk->-r requirements.txt (line 7)) (4.56.0)\n",
      "Requirement already satisfied: regex in /usr/local/lib/python3.7/site-packages (from nltk->-r requirements.txt (line 7)) (2021.4.4)\n",
      "Requirement already satisfied: click in /usr/local/lib/python3.7/site-packages (from nltk->-r requirements.txt (line 7)) (7.1.2)\n",
      "Requirement already satisfied: joblib in /usr/local/lib/python3.7/site-packages (from nltk->-r requirements.txt (line 7)) (1.0.0)\n",
      "Requirement already satisfied: pathy>=0.3.5 in /usr/local/lib/python3.7/site-packages (from spacy->-r requirements.txt (line 8)) (0.5.2)\n",
      "Requirement already satisfied: wasabi<1.1.0,>=0.8.1 in /usr/local/lib/python3.7/site-packages (from spacy->-r requirements.txt (line 8)) (0.8.2)\n",
      "Requirement already satisfied: requests<3.0.0,>=2.13.0 in /usr/local/lib/python3.7/site-packages (from spacy->-r requirements.txt (line 8)) (2.25.1)\n",
      "Requirement already satisfied: murmurhash<1.1.0,>=0.28.0 in /usr/local/lib/python3.7/site-packages (from spacy->-r requirements.txt (line 8)) (1.0.5)\n",
      "Requirement already satisfied: thinc<8.1.0,>=8.0.12 in /usr/local/lib/python3.7/site-packages (from spacy->-r requirements.txt (line 8)) (8.0.13)\n",
      "Requirement already satisfied: srsly<3.0.0,>=2.4.1 in /usr/local/lib/python3.7/site-packages (from spacy->-r requirements.txt (line 8)) (2.4.2)\n",
      "Requirement already satisfied: blis<0.8.0,>=0.4.0 in /usr/local/lib/python3.7/site-packages (from spacy->-r requirements.txt (line 8)) (0.4.1)\n",
      "Requirement already satisfied: preshed<3.1.0,>=3.0.2 in /usr/local/lib/python3.7/site-packages (from spacy->-r requirements.txt (line 8)) (3.0.5)\n",
      "Requirement already satisfied: typing-extensions<4.0.0.0,>=3.7.4; python_version < \"3.8\" in /usr/local/lib/python3.7/site-packages (from spacy->-r requirements.txt (line 8)) (3.7.4.3)\n",
      "Requirement already satisfied: spacy-legacy<3.1.0,>=3.0.8 in /usr/local/lib/python3.7/site-packages (from spacy->-r requirements.txt (line 8)) (3.0.8)\n",
      "Requirement already satisfied: setuptools in /usr/local/lib/python3.7/site-packages (from spacy->-r requirements.txt (line 8)) (46.0.0)\n",
      "Requirement already satisfied: cymem<2.1.0,>=2.0.2 in /usr/local/lib/python3.7/site-packages (from spacy->-r requirements.txt (line 8)) (2.0.5)\n",
      "Requirement already satisfied: langcodes<4.0.0,>=3.2.0 in /usr/local/lib/python3.7/site-packages (from spacy->-r requirements.txt (line 8)) (3.3.0)\n",
      "Requirement already satisfied: pydantic!=1.8,!=1.8.1,<1.9.0,>=1.7.4 in /usr/local/lib/python3.7/site-packages (from spacy->-r requirements.txt (line 8)) (1.8.2)\n",
      "Requirement already satisfied: packaging>=20.0 in /usr/local/lib/python3.7/site-packages (from spacy->-r requirements.txt (line 8)) (20.8)\n",
      "Requirement already satisfied: spacy-loggers<2.0.0,>=1.0.0 in /usr/local/lib/python3.7/site-packages (from spacy->-r requirements.txt (line 8)) (1.0.1)\n",
      "Requirement already satisfied: catalogue<2.1.0,>=2.0.6 in /usr/local/lib/python3.7/site-packages (from spacy->-r requirements.txt (line 8)) (2.0.6)\n",
      "Requirement already satisfied: typer<0.5.0,>=0.3.0 in /usr/local/lib/python3.7/site-packages (from spacy->-r requirements.txt (line 8)) (0.3.2)\n",
      "Requirement already satisfied: jinja2 in /usr/local/lib/python3.7/site-packages (from spacy->-r requirements.txt (line 8)) (2.11.2)\n",
      "Requirement already satisfied: threadpoolctl>=2.0.0 in /usr/local/lib/python3.7/site-packages (from scikit-learn->sklearn->-r requirements.txt (line 6)) (2.1.0)\n",
      "Requirement already satisfied: smart-open<4.0.0,>=2.2.0 in /usr/local/lib/python3.7/site-packages (from pathy>=0.3.5->spacy->-r requirements.txt (line 8)) (3.0.0)\n",
      "Requirement already satisfied: chardet<5,>=3.0.2 in /usr/local/lib/python3.7/site-packages (from requests<3.0.0,>=2.13.0->spacy->-r requirements.txt (line 8)) (4.0.0)\n",
      "Requirement already satisfied: certifi>=2017.4.17 in /usr/local/lib/python3.7/site-packages (from requests<3.0.0,>=2.13.0->spacy->-r requirements.txt (line 8)) (2020.12.5)\n",
      "Requirement already satisfied: urllib3<1.27,>=1.21.1 in /usr/local/lib/python3.7/site-packages (from requests<3.0.0,>=2.13.0->spacy->-r requirements.txt (line 8)) (1.26.2)\n",
      "Requirement already satisfied: idna<3,>=2.5 in /usr/local/lib/python3.7/site-packages (from requests<3.0.0,>=2.13.0->spacy->-r requirements.txt (line 8)) (2.10)\n",
      "Requirement already satisfied: zipp>=0.5; python_version < \"3.8\" in /usr/local/lib/python3.7/site-packages (from catalogue<2.1.0,>=2.0.6->spacy->-r requirements.txt (line 8)) (3.4.0)\n",
      "Requirement already satisfied: MarkupSafe>=0.23 in /usr/local/lib/python3.7/site-packages (from jinja2->spacy->-r requirements.txt (line 8)) (2.0.1)\n"
     ]
    }
   ],
   "source": [
    "! pip3 install -r requirements.txt"
   ]
  },
  {
   "cell_type": "code",
   "execution_count": 111,
   "metadata": {},
   "outputs": [],
   "source": [
    "import pandas as pd\n",
    "import numpy as np\n",
    "import glob\n",
    "import socket\n",
    "import spacy\n",
    "from sklearn.preprocessing import OneHotEncoder\n",
    "from sklearn.model_selection import ShuffleSplit\n",
    "from sklearn.feature_extraction.text import TfidfVectorizer, CountVectorizer, TfidfTransformer\n",
    "from sklearn.naive_bayes import MultinomialNB\n",
    "from sklearn.neighbors import KNeighborsClassifier\n",
    "from sklearn.naive_bayes import GaussianNB\n",
    "import sklearn.model_selection as ms\n",
    "from sklearn import metrics as mt\n",
    "from sklearn.metrics import (accuracy_score,brier_score_loss, precision_score, recall_score,f1_score)\n",
    "from sklearn.pipeline import Pipeline\n",
    "from sklearn.decomposition import PCA \n",
    "import time\n",
    "# from spacy.lang.en import English\n",
    "# from spacy.lang.en.stop_words import STOP_WORDS"
   ]
  },
  {
   "cell_type": "code",
   "execution_count": 51,
   "metadata": {},
   "outputs": [],
   "source": [
    "if socket.gethostname() != 'Rohits-MacBook-Pro.local':\n",
    "    rootdir = '/Users/rohitchanne/Documents/QTW_case_study3/SpamAssassinMessages/'\n",
    "else: \n",
    "    rootdir = '' ##Enter file path name here "
   ]
  },
  {
   "cell_type": "code",
   "execution_count": 52,
   "metadata": {},
   "outputs": [],
   "source": [
    "df_email_data = pd.DataFrame()\n",
    "email_content = []\n",
    "email_type = []\n",
    "for filename in glob.iglob(rootdir+'**/*.*', recursive=True):\n",
    "    file_parts = filename.split('/')\n",
    "    if len(file_parts) == 3 and 'cmds' not in file_parts and '' not in file_parts:\n",
    "        # print(filename)\n",
    "        email_type.append(file_parts[1])\n",
    "        with open(filename, encoding='latin1') as f:\n",
    "            data = f.read()\n",
    "            email_content.append(data)\n",
    "\n",
    "df_email_data = pd.DataFrame({'type': email_type, 'content': email_content})\n",
    "# del email_content, email_type"
   ]
  },
  {
   "cell_type": "code",
   "execution_count": 53,
   "metadata": {},
   "outputs": [
    {
     "data": {
      "text/html": [
       "<div>\n",
       "<style scoped>\n",
       "    .dataframe tbody tr th:only-of-type {\n",
       "        vertical-align: middle;\n",
       "    }\n",
       "\n",
       "    .dataframe tbody tr th {\n",
       "        vertical-align: top;\n",
       "    }\n",
       "\n",
       "    .dataframe thead th {\n",
       "        text-align: right;\n",
       "    }\n",
       "</style>\n",
       "<table border=\"1\" class=\"dataframe\">\n",
       "  <thead>\n",
       "    <tr style=\"text-align: right;\">\n",
       "      <th></th>\n",
       "      <th>content</th>\n",
       "    </tr>\n",
       "    <tr>\n",
       "      <th>type</th>\n",
       "      <th></th>\n",
       "    </tr>\n",
       "  </thead>\n",
       "  <tbody>\n",
       "    <tr>\n",
       "      <th>easy_ham</th>\n",
       "      <td>5051</td>\n",
       "    </tr>\n",
       "    <tr>\n",
       "      <th>easy_ham_2</th>\n",
       "      <td>1400</td>\n",
       "    </tr>\n",
       "    <tr>\n",
       "      <th>hard_ham</th>\n",
       "      <td>500</td>\n",
       "    </tr>\n",
       "    <tr>\n",
       "      <th>spam</th>\n",
       "      <td>1000</td>\n",
       "    </tr>\n",
       "    <tr>\n",
       "      <th>spam_2</th>\n",
       "      <td>1397</td>\n",
       "    </tr>\n",
       "  </tbody>\n",
       "</table>\n",
       "</div>"
      ],
      "text/plain": [
       "            content\n",
       "type               \n",
       "easy_ham       5051\n",
       "easy_ham_2     1400\n",
       "hard_ham        500\n",
       "spam           1000\n",
       "spam_2         1397"
      ]
     },
     "execution_count": 53,
     "metadata": {},
     "output_type": "execute_result"
    }
   ],
   "source": [
    "df_email_data.groupby('type').count()"
   ]
  },
  {
   "cell_type": "markdown",
   "metadata": {},
   "source": [
    "### Transformations\n",
    "- New relevant columns:\n",
    "    - Extracting Content Type\n",
    "    - Extracting Subject line\n",
    "    - Is the Email a reply\n",
    "    - Is the Email a forward\n",
    "    - Number of actual data lines (Normalized)"
   ]
  },
  {
   "cell_type": "code",
   "execution_count": 54,
   "metadata": {},
   "outputs": [],
   "source": [
    "df_email_expanded = df_email_data.apply(lambda x: x.str.split('\\n').explode())\n",
    "df_email_data['is_spam'] = df_email_data['type'].str.contains('spam')\n",
    "df_content_type = df_email_expanded[df_email_expanded['content']\n",
    "                                    .str.contains(\"^Content-Type.*$\", regex=True)]['content'].str.split(';').str[0].str.lower().str.strip()\n",
    "df_subject = df_email_expanded[df_email_expanded['content']\n",
    "                  .str.strip().str.contains(\"^Subject:.*$\", regex=True)]['content']\n",
    "df_email_data['content_type'] = df_content_type.groupby(df_content_type.index).first()\n",
    "df_email_data['subject'] = df_subject.groupby(df_subject.index).first().str.replace(\"Subject: \",\"\")\n",
    "df_email_data['is_reply'] = df_email_data['subject'].str.lower().str.startswith(\"re:\")\n",
    "df_email_data['is_forward'] = df_email_data['subject'].str.lower().str.startswith(\"fwd:\")\n",
    "df_email_data['is_upper'] = df_email_data['subject'].str.isupper()\n",
    "df_email_data['num_lines'] = df_email_data['content'].str.split('\\n').str.len()\n",
    "df_email_data['blank_lines'] = df_email_expanded['content'][df_email_expanded['content'].str.strip()==\"\"].groupby(df_email_expanded[df_email_expanded['content'].str.strip()==\"\"].index).count()\n",
    "df_email_data['data_lines'] = df_email_data['num_lines'] - df_email_data['blank_lines']\n",
    "df_email_data['data_lines_gaussian'] = (df_email_data['data_lines'] - df_email_data['data_lines'].min())/(df_email_data['data_lines'].max() - df_email_data['data_lines'].min())"
   ]
  },
  {
   "cell_type": "code",
   "execution_count": 55,
   "metadata": {},
   "outputs": [
    {
     "data": {
      "text/html": [
       "<div>\n",
       "<style scoped>\n",
       "    .dataframe tbody tr th:only-of-type {\n",
       "        vertical-align: middle;\n",
       "    }\n",
       "\n",
       "    .dataframe tbody tr th {\n",
       "        vertical-align: top;\n",
       "    }\n",
       "\n",
       "    .dataframe thead th {\n",
       "        text-align: right;\n",
       "    }\n",
       "</style>\n",
       "<table border=\"1\" class=\"dataframe\">\n",
       "  <thead>\n",
       "    <tr style=\"text-align: right;\">\n",
       "      <th></th>\n",
       "      <th>type</th>\n",
       "      <th>content</th>\n",
       "      <th>is_spam</th>\n",
       "      <th>content_type</th>\n",
       "      <th>subject</th>\n",
       "      <th>is_reply</th>\n",
       "      <th>is_forward</th>\n",
       "      <th>is_upper</th>\n",
       "      <th>num_lines</th>\n",
       "      <th>blank_lines</th>\n",
       "      <th>data_lines</th>\n",
       "      <th>data_lines_gaussian</th>\n",
       "    </tr>\n",
       "  </thead>\n",
       "  <tbody>\n",
       "    <tr>\n",
       "      <th>0</th>\n",
       "      <td>spam</td>\n",
       "      <td>From pamela4701@eudoramail.com  Mon Sep  9 10:...</td>\n",
       "      <td>True</td>\n",
       "      <td>content-type: text/plain</td>\n",
       "      <td>Let us find the right mortgage lender for you ...</td>\n",
       "      <td>False</td>\n",
       "      <td>False</td>\n",
       "      <td>False</td>\n",
       "      <td>59</td>\n",
       "      <td>18</td>\n",
       "      <td>41</td>\n",
       "      <td>0.005079</td>\n",
       "    </tr>\n",
       "    <tr>\n",
       "      <th>1</th>\n",
       "      <td>spam</td>\n",
       "      <td>From 102192086381143-17090200005-example.com?z...</td>\n",
       "      <td>True</td>\n",
       "      <td>content-type: multipart/alternative</td>\n",
       "      <td>Friend, Copy ANY DVD or Playstation Game with ...</td>\n",
       "      <td>False</td>\n",
       "      <td>False</td>\n",
       "      <td>False</td>\n",
       "      <td>184</td>\n",
       "      <td>37</td>\n",
       "      <td>147</td>\n",
       "      <td>0.021901</td>\n",
       "    </tr>\n",
       "    <tr>\n",
       "      <th>2</th>\n",
       "      <td>spam</td>\n",
       "      <td>From sh@insiq.us  Fri Sep 20 11:41:16 2002\\nRe...</td>\n",
       "      <td>True</td>\n",
       "      <td>content-type: multipart/alternative</td>\n",
       "      <td>5% Guaranteed for Eight Years</td>\n",
       "      <td>False</td>\n",
       "      <td>False</td>\n",
       "      <td>False</td>\n",
       "      <td>273</td>\n",
       "      <td>17</td>\n",
       "      <td>256</td>\n",
       "      <td>0.039200</td>\n",
       "    </tr>\n",
       "    <tr>\n",
       "      <th>3</th>\n",
       "      <td>spam</td>\n",
       "      <td>From OWNER-NOLIST-SGODAILY*JM**NETNOTEINC*-COM...</td>\n",
       "      <td>True</td>\n",
       "      <td>content-type: text/html</td>\n",
       "      <td>Congratulations! You Get a Free Handheld Organ...</td>\n",
       "      <td>False</td>\n",
       "      <td>False</td>\n",
       "      <td>False</td>\n",
       "      <td>116</td>\n",
       "      <td>21</td>\n",
       "      <td>95</td>\n",
       "      <td>0.013649</td>\n",
       "    </tr>\n",
       "    <tr>\n",
       "      <th>4</th>\n",
       "      <td>spam</td>\n",
       "      <td>From apf@wu-wien.ac.at  Thu Sep 19 13:01:55 20...</td>\n",
       "      <td>True</td>\n",
       "      <td>content-type: text/plain</td>\n",
       "      <td>PROTECT YOUR INFORMATION AND YOUR COMPUTER</td>\n",
       "      <td>False</td>\n",
       "      <td>False</td>\n",
       "      <td>True</td>\n",
       "      <td>66</td>\n",
       "      <td>16</td>\n",
       "      <td>50</td>\n",
       "      <td>0.006507</td>\n",
       "    </tr>\n",
       "    <tr>\n",
       "      <th>...</th>\n",
       "      <td>...</td>\n",
       "      <td>...</td>\n",
       "      <td>...</td>\n",
       "      <td>...</td>\n",
       "      <td>...</td>\n",
       "      <td>...</td>\n",
       "      <td>...</td>\n",
       "      <td>...</td>\n",
       "      <td>...</td>\n",
       "      <td>...</td>\n",
       "      <td>...</td>\n",
       "      <td>...</td>\n",
       "    </tr>\n",
       "    <tr>\n",
       "      <th>9343</th>\n",
       "      <td>easy_ham_2</td>\n",
       "      <td>From razor-users-admin@lists.sourceforge.net  ...</td>\n",
       "      <td>False</td>\n",
       "      <td>content-type: text/plain</td>\n",
       "      <td>RE: [Razor-users] What's wrong with the Razor ...</td>\n",
       "      <td>True</td>\n",
       "      <td>False</td>\n",
       "      <td>False</td>\n",
       "      <td>88</td>\n",
       "      <td>13</td>\n",
       "      <td>75</td>\n",
       "      <td>0.010475</td>\n",
       "    </tr>\n",
       "    <tr>\n",
       "      <th>9344</th>\n",
       "      <td>easy_ham_2</td>\n",
       "      <td>From fork-admin@xent.com  Tue Aug  6 11:58:11 ...</td>\n",
       "      <td>False</td>\n",
       "      <td>NaN</td>\n",
       "      <td>Re: W3C approves HTML 4 'emotitags' [...]</td>\n",
       "      <td>True</td>\n",
       "      <td>False</td>\n",
       "      <td>False</td>\n",
       "      <td>50</td>\n",
       "      <td>7</td>\n",
       "      <td>43</td>\n",
       "      <td>0.005396</td>\n",
       "    </tr>\n",
       "    <tr>\n",
       "      <th>9345</th>\n",
       "      <td>easy_ham_2</td>\n",
       "      <td>From rpm-list-admin@freshrpms.net  Mon Jul 22 ...</td>\n",
       "      <td>False</td>\n",
       "      <td>content-type: text/plain</td>\n",
       "      <td>Re: Ximian apt repos?</td>\n",
       "      <td>True</td>\n",
       "      <td>False</td>\n",
       "      <td>False</td>\n",
       "      <td>77</td>\n",
       "      <td>8</td>\n",
       "      <td>69</td>\n",
       "      <td>0.009522</td>\n",
       "    </tr>\n",
       "    <tr>\n",
       "      <th>9346</th>\n",
       "      <td>easy_ham_2</td>\n",
       "      <td>From rpm-list-admin@freshrpms.net  Tue Jul 30 ...</td>\n",
       "      <td>False</td>\n",
       "      <td>content-type: text/plain</td>\n",
       "      <td>Re: Installing RPM</td>\n",
       "      <td>True</td>\n",
       "      <td>False</td>\n",
       "      <td>False</td>\n",
       "      <td>84</td>\n",
       "      <td>10</td>\n",
       "      <td>74</td>\n",
       "      <td>0.010316</td>\n",
       "    </tr>\n",
       "    <tr>\n",
       "      <th>9347</th>\n",
       "      <td>easy_ham_2</td>\n",
       "      <td>From exmh-workers-admin@redhat.com  Thu Aug  1...</td>\n",
       "      <td>False</td>\n",
       "      <td>content-type: text/plain</td>\n",
       "      <td>scan bug: no update after Pick's \"New FTOC\"</td>\n",
       "      <td>False</td>\n",
       "      <td>False</td>\n",
       "      <td>False</td>\n",
       "      <td>84</td>\n",
       "      <td>8</td>\n",
       "      <td>76</td>\n",
       "      <td>0.010633</td>\n",
       "    </tr>\n",
       "  </tbody>\n",
       "</table>\n",
       "<p>9348 rows × 12 columns</p>\n",
       "</div>"
      ],
      "text/plain": [
       "            type                                            content  is_spam  \\\n",
       "0           spam  From pamela4701@eudoramail.com  Mon Sep  9 10:...     True   \n",
       "1           spam  From 102192086381143-17090200005-example.com?z...     True   \n",
       "2           spam  From sh@insiq.us  Fri Sep 20 11:41:16 2002\\nRe...     True   \n",
       "3           spam  From OWNER-NOLIST-SGODAILY*JM**NETNOTEINC*-COM...     True   \n",
       "4           spam  From apf@wu-wien.ac.at  Thu Sep 19 13:01:55 20...     True   \n",
       "...          ...                                                ...      ...   \n",
       "9343  easy_ham_2  From razor-users-admin@lists.sourceforge.net  ...    False   \n",
       "9344  easy_ham_2  From fork-admin@xent.com  Tue Aug  6 11:58:11 ...    False   \n",
       "9345  easy_ham_2  From rpm-list-admin@freshrpms.net  Mon Jul 22 ...    False   \n",
       "9346  easy_ham_2  From rpm-list-admin@freshrpms.net  Tue Jul 30 ...    False   \n",
       "9347  easy_ham_2  From exmh-workers-admin@redhat.com  Thu Aug  1...    False   \n",
       "\n",
       "                             content_type  \\\n",
       "0                content-type: text/plain   \n",
       "1     content-type: multipart/alternative   \n",
       "2     content-type: multipart/alternative   \n",
       "3                 content-type: text/html   \n",
       "4                content-type: text/plain   \n",
       "...                                   ...   \n",
       "9343             content-type: text/plain   \n",
       "9344                                  NaN   \n",
       "9345             content-type: text/plain   \n",
       "9346             content-type: text/plain   \n",
       "9347             content-type: text/plain   \n",
       "\n",
       "                                                subject is_reply is_forward  \\\n",
       "0     Let us find the right mortgage lender for you ...    False      False   \n",
       "1     Friend, Copy ANY DVD or Playstation Game with ...    False      False   \n",
       "2                         5% Guaranteed for Eight Years    False      False   \n",
       "3     Congratulations! You Get a Free Handheld Organ...    False      False   \n",
       "4            PROTECT YOUR INFORMATION AND YOUR COMPUTER    False      False   \n",
       "...                                                 ...      ...        ...   \n",
       "9343  RE: [Razor-users] What's wrong with the Razor ...     True      False   \n",
       "9344          Re: W3C approves HTML 4 'emotitags' [...]     True      False   \n",
       "9345                              Re: Ximian apt repos?     True      False   \n",
       "9346                                 Re: Installing RPM     True      False   \n",
       "9347        scan bug: no update after Pick's \"New FTOC\"    False      False   \n",
       "\n",
       "     is_upper  num_lines  blank_lines  data_lines  data_lines_gaussian  \n",
       "0       False         59           18          41             0.005079  \n",
       "1       False        184           37         147             0.021901  \n",
       "2       False        273           17         256             0.039200  \n",
       "3       False        116           21          95             0.013649  \n",
       "4        True         66           16          50             0.006507  \n",
       "...       ...        ...          ...         ...                  ...  \n",
       "9343    False         88           13          75             0.010475  \n",
       "9344    False         50            7          43             0.005396  \n",
       "9345    False         77            8          69             0.009522  \n",
       "9346    False         84           10          74             0.010316  \n",
       "9347    False         84            8          76             0.010633  \n",
       "\n",
       "[9348 rows x 12 columns]"
      ]
     },
     "execution_count": 55,
     "metadata": {},
     "output_type": "execute_result"
    }
   ],
   "source": [
    "df_email_data"
   ]
  },
  {
   "cell_type": "markdown",
   "metadata": {},
   "source": [
    "### Using Spacy for creating a TFIDF vectorzied feature space"
   ]
  },
  {
   "cell_type": "code",
   "execution_count": 70,
   "metadata": {},
   "outputs": [],
   "source": [
    "nlp = spacy.load(\"en_core_web_lg\")\n",
    "stop_words = spacy.lang.en.stop_words.STOP_WORDS\n",
    "\n",
    "def spacy_tokenizer(document):\n",
    "    tokens = nlp(document)\n",
    "    tokens = [token.lemma_ for token in tokens if (\n",
    "        token.is_stop == False and \\\n",
    "        token.is_punct == False and \\\n",
    "        # token.is_digit == False and \\\n",
    "        token.lemma_.strip()!= '')]\n",
    "    return tokens"
   ]
  },
  {
   "cell_type": "code",
   "execution_count": 71,
   "metadata": {},
   "outputs": [],
   "source": [
    "vectorizer = TfidfVectorizer(input = 'content', tokenizer = spacy_tokenizer)\n",
    "V = vectorizer.fit_transform(df_email_data['subject'].replace(np.nan, \"\"))"
   ]
  },
  {
   "cell_type": "code",
   "execution_count": 72,
   "metadata": {},
   "outputs": [],
   "source": [
    "df_for_nb = pd.DataFrame(V.toarray(), columns=vectorizer.get_feature_names())"
   ]
  },
  {
   "cell_type": "code",
   "execution_count": 73,
   "metadata": {},
   "outputs": [
    {
     "data": {
      "text/plain": [
       "(9348, 5824)"
      ]
     },
     "execution_count": 73,
     "metadata": {},
     "output_type": "execute_result"
    }
   ],
   "source": [
    "df_for_nb.shape"
   ]
  },
  {
   "cell_type": "code",
   "execution_count": 74,
   "metadata": {},
   "outputs": [],
   "source": [
    "df_for_nb = pd.concat([df_email_data[['is_spam','is_reply','is_forward','is_upper','data_lines_gaussian']]\n",
    "                       ,pd.get_dummies(df_email_data['content_type'], columns = ['content_type'])\n",
    "                       ,df_for_nb],axis=1)"
   ]
  },
  {
   "cell_type": "markdown",
   "metadata": {},
   "source": [
    "### Inspecting first few columns"
   ]
  },
  {
   "cell_type": "code",
   "execution_count": 75,
   "metadata": {},
   "outputs": [
    {
     "data": {
      "text/plain": [
       "Index(['is_spam', 'is_reply', 'is_forward', 'is_upper', 'data_lines_gaussian',\n",
       "       'content-type:', 'content-type: multipart/alternative',\n",
       "       'content-type: multipart/mixed', 'content-type: multipart/related',\n",
       "       'content-type: multipart/report', 'content-type: multipart/signed',\n",
       "       'content-type: text/html', 'content-type: text/plain',\n",
       "       'content-type: text/plain charset=us-ascii', '\"(was', '$', ''em', '+',\n",
       "       '--allowe', '--breake', '--with', '-25', '-9', '-adv-', '-approved-',\n",
       "       '-c', '-colonize', '-f', '-h', '-hgh', '-lm', '-lrmjq', '-pkqolhil',\n",
       "       '-t', '-the-', '.\"announcing', '.+', '.biz', '.cf', '.com', '.doc',\n",
       "       '.info', '.message', '.mp3', '//ytu855', '/d', '/etc', '/home', '/s',\n",
       "       '0', '0.04', '0.1', '0.11.28', '0.11.31', '0.3', '0.5', '0.5.7', '0.91',\n",
       "       '00324', '00326', '00328', '00330', '01', '0137cpnx4', '0179mfrp5',\n",
       "       '02', '02/2002', '03', '03.07.02', '04', '040jxgt0341bxgg-24', '05',\n",
       "       '05152', '05775748', '057sxua1524uhkc5', '05:36:34', '05:45', '06',\n",
       "       '07', '07/10/2002', '07/11/2002', '07/12/2002', '07/13/2001',\n",
       "       '07/13/2002', '07/17/2002', '07/18/2002', '07/19/2002', '07/20/2002',\n",
       "       '07/22/2002', '07/26', '071902e', '0753hheu3', '0766aexl8', '08',\n",
       "       '08.00', '08/26/2002', '08568', '09', '09/13/02', '0922lkvt8'],\n",
       "      dtype='object')"
      ]
     },
     "execution_count": 75,
     "metadata": {},
     "output_type": "execute_result"
    }
   ],
   "source": [
    "df_for_nb.columns[:100]"
   ]
  },
  {
   "cell_type": "code",
   "execution_count": 91,
   "metadata": {},
   "outputs": [],
   "source": [
    "def clean_dataset(df):\n",
    "    assert isinstance(df, pd.DataFrame), \"df needs to be a pd.DataFrame\"\n",
    "    df.dropna(inplace=True)\n",
    "    indices_to_keep = ~df.isin([np.nan, np.inf, -np.inf]).any(1)\n",
    "    return df[indices_to_keep].astype(np.float64)"
   ]
  },
  {
   "cell_type": "markdown",
   "metadata": {},
   "source": [
    "### Cross Validation with 5 iterations and test size as 25 % of the data set"
   ]
  },
  {
   "cell_type": "code",
   "execution_count": 100,
   "metadata": {},
   "outputs": [],
   "source": [
    "def cv_train(name,model,x,y, num_cv_iterations = 5):\n",
    "    print(f\"====Performing Cross Validation for {name}\")\n",
    "    print(f\" Iteration \", end = '')\n",
    "    iter_num=0\n",
    "    res=pd.DataFrame()\n",
    "    \n",
    "    cv_object = ms.StratifiedShuffleSplit(n_splits=num_cv_iterations,\n",
    "                         random_state=0,\n",
    "                         test_size  = 0.25)\n",
    "\n",
    "    for train_indices, test_indices in cv_object.split(x,y):\n",
    "        t = time.time()\n",
    "        print(f\" {iter_num},\", end = '')\n",
    "\n",
    "        X_train = x.iloc[train_indices]\n",
    "        y_train = y.iloc[train_indices]\n",
    "\n",
    "        X_test = x.iloc[test_indices]\n",
    "        y_test = y.iloc[test_indices]\n",
    "\n",
    "        model.fit(X_train,y_train)  # train object\n",
    "        y_hat = model.predict(X_test) # get test set precitions\n",
    "\n",
    "        conf = mt.confusion_matrix(y_test,y_hat)\n",
    "        \n",
    "        row=pd.DataFrame([iter_num],columns=['Iteration'])\n",
    "        row[\"accuracy\"]=accuracy_score(y_test, y_hat)\n",
    "        row[\"precision\"]=precision_score(y_test, y_hat, average=\"macro\")\n",
    "        row[\"recall\"]=recall_score(y_test, y_hat, average=\"macro\")\n",
    "        row[\"f1\"]=f1_score(y_test, y_hat, average=\"macro\")\n",
    "        row[\"average_seconds\"]= np.round(time.time() - t)\n",
    "\n",
    "        res=res.append(row)\n",
    "        iter_num+=1\n",
    "    \n",
    "    #Summarize CV Results \n",
    "    summary=res.drop(\"Iteration\",axis=1).agg(\"mean\").to_frame().T\n",
    "    #summary.insert(0,\"model\",model)\n",
    "    summary.insert(0,\"name\",name)\n",
    "    print(\"  Cross-validation complete\")\n",
    "\n",
    "    return(summary)"
   ]
  },
  {
   "cell_type": "code",
   "execution_count": 94,
   "metadata": {},
   "outputs": [],
   "source": [
    "clean_dataset(df_for_nb)\n",
    "X = df_for_nb.drop('is_spam', axis=1)\n",
    "y = df_for_nb['is_spam']\n",
    "# rs = ShuffleSplit(n_splits=5, test_size=.3, random_state=0)"
   ]
  },
  {
   "cell_type": "code",
   "execution_count": 98,
   "metadata": {},
   "outputs": [],
   "source": [
    "mnb = MultinomialNB()"
   ]
  },
  {
   "cell_type": "code",
   "execution_count": 101,
   "metadata": {},
   "outputs": [
    {
     "name": "stdout",
     "output_type": "stream",
     "text": [
      "====Performing Cross Validation for nb\n",
      " Iteration  0, 1, 2, 3, 4,  Cross-validation complete\n"
     ]
    }
   ],
   "source": [
    "cv_results=cv_train('nb',mnb,X,y)"
   ]
  },
  {
   "cell_type": "markdown",
   "metadata": {},
   "source": [
    "### Untrained Naive Bayes"
   ]
  },
  {
   "cell_type": "code",
   "execution_count": 102,
   "metadata": {},
   "outputs": [
    {
     "data": {
      "text/html": [
       "<div>\n",
       "<style scoped>\n",
       "    .dataframe tbody tr th:only-of-type {\n",
       "        vertical-align: middle;\n",
       "    }\n",
       "\n",
       "    .dataframe tbody tr th {\n",
       "        vertical-align: top;\n",
       "    }\n",
       "\n",
       "    .dataframe thead th {\n",
       "        text-align: right;\n",
       "    }\n",
       "</style>\n",
       "<table border=\"1\" class=\"dataframe\">\n",
       "  <thead>\n",
       "    <tr style=\"text-align: right;\">\n",
       "      <th></th>\n",
       "      <th>name</th>\n",
       "      <th>accuracy</th>\n",
       "      <th>precision</th>\n",
       "      <th>recall</th>\n",
       "      <th>f1</th>\n",
       "      <th>average_seconds</th>\n",
       "    </tr>\n",
       "  </thead>\n",
       "  <tbody>\n",
       "    <tr>\n",
       "      <th>0</th>\n",
       "      <td>nb</td>\n",
       "      <td>0.930651</td>\n",
       "      <td>0.917803</td>\n",
       "      <td>0.897368</td>\n",
       "      <td>0.906831</td>\n",
       "      <td>4.0</td>\n",
       "    </tr>\n",
       "  </tbody>\n",
       "</table>\n",
       "</div>"
      ],
      "text/plain": [
       "  name  accuracy  precision    recall        f1  average_seconds\n",
       "0   nb  0.930651   0.917803  0.897368  0.906831              4.0"
      ]
     },
     "execution_count": 102,
     "metadata": {},
     "output_type": "execute_result"
    }
   ],
   "source": [
    "cv_results"
   ]
  },
  {
   "cell_type": "code",
   "execution_count": 116,
   "metadata": {},
   "outputs": [],
   "source": [
    "base_knn = KNeighborsClassifier(n_neighbors=3)\n",
    "\n",
    "pca_gnb = Pipeline(\n",
    "    [('PCA',PCA(n_components=1000,svd_solver='randomized')),\n",
    "     ('CLF',GaussianNB())] # Using Gaussian because MultinomialNB cannot support negative values\n",
    ")\n",
    "\n",
    "pca_knn = Pipeline(\n",
    "    [('PCA',PCA(n_components=1000,svd_solver='randomized')),\n",
    "     ('CLF',KNeighborsClassifier(n_neighbors=3))]\n",
    ")"
   ]
  },
  {
   "cell_type": "code",
   "execution_count": 118,
   "metadata": {},
   "outputs": [],
   "source": [
    "other_random_models = {\"base_knn\":base_knn,\"pca_gnb\":pca_gnb,\"pca_knn\":pca_knn}\n",
    "# other_random_models = {\"pca_gnb\":pca_gnb,\"pca_knn\":pca_knn}"
   ]
  },
  {
   "cell_type": "code",
   "execution_count": 119,
   "metadata": {},
   "outputs": [
    {
     "name": "stdout",
     "output_type": "stream",
     "text": [
      "====Performing Cross Validation for pca_gnb\n",
      " Iteration  0, 1, 2, 3, 4,  Cross-validation complete\n",
      "====Performing Cross Validation for pca_knn\n",
      " Iteration  0, 1, 2, 3, 4,  Cross-validation complete\n"
     ]
    }
   ],
   "source": [
    "for name,model in other_random_models.items():\n",
    "    cv_results=cv_results.append(cv_train(name,model,X,y))"
   ]
  },
  {
   "cell_type": "code",
   "execution_count": 120,
   "metadata": {},
   "outputs": [
    {
     "data": {
      "text/html": [
       "<div>\n",
       "<style scoped>\n",
       "    .dataframe tbody tr th:only-of-type {\n",
       "        vertical-align: middle;\n",
       "    }\n",
       "\n",
       "    .dataframe tbody tr th {\n",
       "        vertical-align: top;\n",
       "    }\n",
       "\n",
       "    .dataframe thead th {\n",
       "        text-align: right;\n",
       "    }\n",
       "</style>\n",
       "<table border=\"1\" class=\"dataframe\">\n",
       "  <thead>\n",
       "    <tr style=\"text-align: right;\">\n",
       "      <th></th>\n",
       "      <th>name</th>\n",
       "      <th>accuracy</th>\n",
       "      <th>precision</th>\n",
       "      <th>recall</th>\n",
       "      <th>f1</th>\n",
       "      <th>average_seconds</th>\n",
       "    </tr>\n",
       "  </thead>\n",
       "  <tbody>\n",
       "    <tr>\n",
       "      <th>0</th>\n",
       "      <td>nb</td>\n",
       "      <td>0.930651</td>\n",
       "      <td>0.917803</td>\n",
       "      <td>0.897368</td>\n",
       "      <td>0.906831</td>\n",
       "      <td>4.0</td>\n",
       "    </tr>\n",
       "    <tr>\n",
       "      <th>0</th>\n",
       "      <td>base_knn</td>\n",
       "      <td>0.906079</td>\n",
       "      <td>0.871063</td>\n",
       "      <td>0.891892</td>\n",
       "      <td>0.880310</td>\n",
       "      <td>80.2</td>\n",
       "    </tr>\n",
       "    <tr>\n",
       "      <th>0</th>\n",
       "      <td>pca_gnb</td>\n",
       "      <td>0.671318</td>\n",
       "      <td>0.691995</td>\n",
       "      <td>0.749784</td>\n",
       "      <td>0.656936</td>\n",
       "      <td>17.2</td>\n",
       "    </tr>\n",
       "    <tr>\n",
       "      <th>0</th>\n",
       "      <td>pca_knn</td>\n",
       "      <td>0.926712</td>\n",
       "      <td>0.897137</td>\n",
       "      <td>0.917251</td>\n",
       "      <td>0.906339</td>\n",
       "      <td>24.0</td>\n",
       "    </tr>\n",
       "  </tbody>\n",
       "</table>\n",
       "</div>"
      ],
      "text/plain": [
       "       name  accuracy  precision    recall        f1  average_seconds\n",
       "0        nb  0.930651   0.917803  0.897368  0.906831              4.0\n",
       "0  base_knn  0.906079   0.871063  0.891892  0.880310             80.2\n",
       "0   pca_gnb  0.671318   0.691995  0.749784  0.656936             17.2\n",
       "0   pca_knn  0.926712   0.897137  0.917251  0.906339             24.0"
      ]
     },
     "execution_count": 120,
     "metadata": {},
     "output_type": "execute_result"
    }
   ],
   "source": [
    "cv_results"
   ]
  },
  {
   "cell_type": "code",
   "execution_count": null,
   "metadata": {},
   "outputs": [],
   "source": []
  }
 ],
 "metadata": {
  "kernelspec": {
   "display_name": "Python 3",
   "language": "python",
   "name": "python3"
  },
  "language_info": {
   "codemirror_mode": {
    "name": "ipython",
    "version": 3
   },
   "file_extension": ".py",
   "mimetype": "text/x-python",
   "name": "python",
   "nbconvert_exporter": "python",
   "pygments_lexer": "ipython3",
   "version": "3.7.7"
  }
 },
 "nbformat": 4,
 "nbformat_minor": 4
}
